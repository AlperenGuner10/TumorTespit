{
 "cells": [
  {
   "cell_type": "code",
   "execution_count": 1,
   "id": "4a727a60-cf83-4dad-a239-e8f886d10892",
   "metadata": {},
   "outputs": [
    {
     "name": "stdout",
     "output_type": "stream",
     "text": [
      "Kullanılan Cihaz: cuda\n"
     ]
    }
   ],
   "source": [
    "import torch\n",
    "device = torch.device(\"cuda\" if torch.cuda.is_available() else \"cpu\")\n",
    "print(f\"Kullanılan Cihaz: {device}\")\n"
   ]
  },
  {
   "cell_type": "code",
   "execution_count": 2,
   "id": "d4f899da-bd84-45b5-89c3-5aaa29642dc4",
   "metadata": {},
   "outputs": [
    {
     "name": "stdout",
     "output_type": "stream",
     "text": [
      "['benign', 'count_files.sh', 'malignant', 'README.txt']\n"
     ]
    }
   ],
   "source": [
    "import os\n",
    "\n",
    "# BreakHis veri setinin kök dizini\n",
    "breakhis_dir = r'C:\\Users\\alper\\bitirme\\BreakHis\\BreaKHis_v1\\BreaKHis_v1\\histology_slides\\breast'\n",
    "\n",
    "# BreakHis veri setindeki dosyaları listele\n",
    "files = os.listdir(breakhis_dir)\n",
    "print(files)\n"
   ]
  },
  {
   "cell_type": "code",
   "execution_count": 3,
   "id": "c05ba7b1-00bd-45d0-9ea2-ac018641dfb8",
   "metadata": {},
   "outputs": [
    {
     "name": "stdout",
     "output_type": "stream",
     "text": [
      "Benign Dosyaları: ['adenosis.stat.txt', 'fibroadenoma.stat.txt', 'phyllodes_tumor.stat.txt', 'process_db_stat.py', 'README_B.txt', 'SOB', 'tubular_adenoma.stat.txt']\n",
      "Malignant Dosyaları: ['ductal_carcinoma.stat.txt', 'ductal_carcinoma.stat.txt.SOB', 'lobular_carcinoma.stat.txt', 'mucinous_carcinoma.stat.txt', 'papillary_carcinoma.stat.txt', 'process_db_stat.py', 'SOB']\n"
     ]
    }
   ],
   "source": [
    "import os\n",
    "\n",
    "# BreakHis veri setindeki 'benign' ve 'malignant' klasörlerini kontrol et\n",
    "benign_dir = os.path.join(breakhis_dir, 'benign')\n",
    "malignant_dir = os.path.join(breakhis_dir, 'malignant')\n",
    "\n",
    "# Her iki klasördeki dosyaların listesini al\n",
    "benign_files = os.listdir(benign_dir)\n",
    "malignant_files = os.listdir(malignant_dir)\n",
    "\n",
    "print(\"Benign Dosyaları:\", benign_files)\n",
    "print(\"Malignant Dosyaları:\", malignant_files)\n"
   ]
  },
  {
   "cell_type": "code",
   "execution_count": 4,
   "id": "42177a29-8295-4e1c-987f-f8db6d2e26ef",
   "metadata": {},
   "outputs": [
    {
     "name": "stdout",
     "output_type": "stream",
     "text": [
      "Benign SOB Dosyaları: ['adenosis', 'fibroadenoma', 'phyllodes_tumor', 'tubular_adenoma']\n",
      "Malignant SOB Dosyaları: ['ductal_carcinoma', 'lobular_carcinoma', 'mucinous_carcinoma', 'papillary_carcinoma']\n"
     ]
    }
   ],
   "source": [
    "# 'benign' ve 'malignant' klasörlerindeki 'SOB' klasörlerini kontrol et\n",
    "benign_SOB_dir = os.path.join(benign_dir, 'SOB')\n",
    "malignant_SOB_dir = os.path.join(malignant_dir, 'SOB')\n",
    "\n",
    "# Her iki klasördeki dosyaların listesini al\n",
    "benign_SOB_files = os.listdir(benign_SOB_dir)\n",
    "malignant_SOB_files = os.listdir(malignant_SOB_dir)\n",
    "\n",
    "print(\"Benign SOB Dosyaları:\", benign_SOB_files)\n",
    "print(\"Malignant SOB Dosyaları:\", malignant_SOB_files)\n"
   ]
  },
  {
   "cell_type": "code",
   "execution_count": 5,
   "id": "941be90b-f498-44ef-8833-cbee99c69717",
   "metadata": {},
   "outputs": [
    {
     "name": "stdout",
     "output_type": "stream",
     "text": [
      "Adenosis Dosyaları: ['SOB_B_A_14-22549AB', 'SOB_B_A_14-22549CD', 'SOB_B_A_14-22549G', 'SOB_B_A_14-29960CD']\n",
      "Fibroadenoma Dosyaları: ['SOB_B_F_14-14134', 'SOB_B_F_14-14134E', 'SOB_B_F_14-21998CD', 'SOB_B_F_14-21998EF', 'SOB_B_F_14-23060AB', 'SOB_B_F_14-23060CD', 'SOB_B_F_14-23222AB', 'SOB_B_F_14-25197', 'SOB_B_F_14-29960AB', 'SOB_B_F_14-9133']\n",
      "Phyllodes Tumor Dosyaları: ['SOB_B_PT_14-21998AB', 'SOB_B_PT_14-22704', 'SOB_B_PT_14-29315EF']\n",
      "Tubular Adenoma Dosyaları: ['SOB_B_TA_14-13200', 'SOB_B_TA_14-15275', 'SOB_B_TA_14-16184', 'SOB_B_TA_14-16184CD', 'SOB_B_TA_14-19854C', 'SOB_B_TA_14-21978AB', 'SOB_B_TA_14-3411F']\n",
      "Ductal Carcinoma Dosyaları: ['SOB_M_DC_14-10926', 'SOB_M_DC_14-11031', 'SOB_M_DC_14-11520', 'SOB_M_DC_14-11951', 'SOB_M_DC_14-12312', 'SOB_M_DC_14-13412', 'SOB_M_DC_14-13993', 'SOB_M_DC_14-14015', 'SOB_M_DC_14-14926', 'SOB_M_DC_14-14946', 'SOB_M_DC_14-15572', 'SOB_M_DC_14-15696', 'SOB_M_DC_14-15792', 'SOB_M_DC_14-16188', 'SOB_M_DC_14-16336', 'SOB_M_DC_14-16448', 'SOB_M_DC_14-16601', 'SOB_M_DC_14-16716', 'SOB_M_DC_14-16875', 'SOB_M_DC_14-17614', 'SOB_M_DC_14-17901', 'SOB_M_DC_14-17915', 'SOB_M_DC_14-18650', 'SOB_M_DC_14-20629', 'SOB_M_DC_14-20636', 'SOB_M_DC_14-2523', 'SOB_M_DC_14-2773', 'SOB_M_DC_14-2980', 'SOB_M_DC_14-2985', 'SOB_M_DC_14-3909', 'SOB_M_DC_14-4364', 'SOB_M_DC_14-4372', 'SOB_M_DC_14-5287', 'SOB_M_DC_14-5694', 'SOB_M_DC_14-5695', 'SOB_M_DC_14-6241', 'SOB_M_DC_14-8168', 'SOB_M_DC_14-9461']\n",
      "Lobular Carcinoma Dosyaları: ['SOB_M_LC_14-12204', 'SOB_M_LC_14-13412', 'SOB_M_LC_14-15570', 'SOB_M_LC_14-15570C', 'SOB_M_LC_14-16196']\n",
      "Mucinous Carcinoma Dosyaları: ['SOB_M_MC_14-10147', 'SOB_M_MC_14-12773', 'SOB_M_MC_14-13413', 'SOB_M_MC_14-13418DE', 'SOB_M_MC_14-16456', 'SOB_M_MC_14-18842', 'SOB_M_MC_14-18842D', 'SOB_M_MC_14-19979', 'SOB_M_MC_14-19979C']\n",
      "Papillary Carcinoma Dosyaları: ['SOB_M_PC_14-12465', 'SOB_M_PC_14-15687B', 'SOB_M_PC_14-15704', 'SOB_M_PC_14-19440', 'SOB_M_PC_14-9146', 'SOB_M_PC_15-190EF']\n"
     ]
    }
   ],
   "source": [
    "# Benign ve Malignant SOB klasörlerindeki alt klasörleri kontrol et\n",
    "adenosis_dir = os.path.join(benign_SOB_dir, 'adenosis')\n",
    "fibroadenoma_dir = os.path.join(benign_SOB_dir, 'fibroadenoma')\n",
    "phyllodes_tumor_dir = os.path.join(benign_SOB_dir, 'phyllodes_tumor')\n",
    "tubular_adenoma_dir = os.path.join(benign_SOB_dir, 'tubular_adenoma')\n",
    "\n",
    "ductal_carcinoma_dir = os.path.join(malignant_SOB_dir, 'ductal_carcinoma')\n",
    "lobular_carcinoma_dir = os.path.join(malignant_SOB_dir, 'lobular_carcinoma')\n",
    "mucinous_carcinoma_dir = os.path.join(malignant_SOB_dir, 'mucinous_carcinoma')\n",
    "papillary_carcinoma_dir = os.path.join(malignant_SOB_dir, 'papillary_carcinoma')\n",
    "\n",
    "# Alt klasörlerdeki dosyaların listesini al\n",
    "adenosis_files = os.listdir(adenosis_dir)\n",
    "fibroadenoma_files = os.listdir(fibroadenoma_dir)\n",
    "phyllodes_tumor_files = os.listdir(phyllodes_tumor_dir)\n",
    "tubular_adenoma_files = os.listdir(tubular_adenoma_dir)\n",
    "\n",
    "ductal_carcinoma_files = os.listdir(ductal_carcinoma_dir)\n",
    "lobular_carcinoma_files = os.listdir(lobular_carcinoma_dir)\n",
    "mucinous_carcinoma_files = os.listdir(mucinous_carcinoma_dir)\n",
    "papillary_carcinoma_files = os.listdir(papillary_carcinoma_dir)\n",
    "\n",
    "print(\"Adenosis Dosyaları:\", adenosis_files)\n",
    "print(\"Fibroadenoma Dosyaları:\", fibroadenoma_files)\n",
    "print(\"Phyllodes Tumor Dosyaları:\", phyllodes_tumor_files)\n",
    "print(\"Tubular Adenoma Dosyaları:\", tubular_adenoma_files)\n",
    "\n",
    "print(\"Ductal Carcinoma Dosyaları:\", ductal_carcinoma_files)\n",
    "print(\"Lobular Carcinoma Dosyaları:\", lobular_carcinoma_files)\n",
    "print(\"Mucinous Carcinoma Dosyaları:\", mucinous_carcinoma_files)\n",
    "print(\"Papillary Carcinoma Dosyaları:\", papillary_carcinoma_files)\n"
   ]
  },
  {
   "cell_type": "code",
   "execution_count": 6,
   "id": "318f7714-f50b-4076-adc8-cfd43b2d35f7",
   "metadata": {},
   "outputs": [
    {
     "name": "stdout",
     "output_type": "stream",
     "text": [
      "Adenosis Klasöründeki Dosyalar: ['SOB_B_A_14-22549AB', 'SOB_B_A_14-22549CD', 'SOB_B_A_14-22549G', 'SOB_B_A_14-29960CD']\n"
     ]
    }
   ],
   "source": [
    "import os\n",
    "\n",
    "# Adenosis klasöründeki dosyaları listeleyin\n",
    "adenosis_dir = r'C:\\Users\\alper\\bitirme\\BreakHis\\BreaKHis_v1\\BreaKHis_v1\\histology_slides\\breast\\benign\\SOB\\adenosis'\n",
    "files = os.listdir(adenosis_dir)\n",
    "print(\"Adenosis Klasöründeki Dosyalar:\", files)\n"
   ]
  },
  {
   "cell_type": "code",
   "execution_count": 7,
   "id": "6c586d81-3daf-4ce8-9a0a-19345b5fb98d",
   "metadata": {},
   "outputs": [],
   "source": [
    "adenosis_example_image = os.path.join(adenosis_dir, 'SOB_B_A_14-22549AB', 'SOB_B_A_14-22549AB.jpg')  # .jpg olarak güncellenmiş dosya adı\n"
   ]
  },
  {
   "cell_type": "code",
   "execution_count": 8,
   "id": "3c26e21d-250b-4b39-9aeb-9909eac548df",
   "metadata": {},
   "outputs": [],
   "source": [
    "from PIL import Image\n",
    "\n",
    "# Resmi açma ve yeniden boyutlandırma\n",
    "img_path = r'C:\\Users\\alper\\bitirme\\BreakHis\\BreaKHis_v1\\BreaKHis_v1\\histology_slides\\breast\\benign\\SOB\\adenosis\\SOB_B_A_14-22549AB\\100X\\SOB_B_A-14-22549AB-100-004.png'\n",
    "img = Image.open(img_path)\n",
    "\n",
    "# Resmi küçültme (100x100 boyutunda)\n",
    "img = img.resize((100, 100))\n",
    "\n",
    "# Görüntüyü gösterme\n",
    "img.show()\n"
   ]
  },
  {
   "cell_type": "code",
   "execution_count": 9,
   "id": "453e4cde-05bd-46bf-8195-c82b822f8076",
   "metadata": {},
   "outputs": [
    {
     "name": "stdout",
     "output_type": "stream",
     "text": [
      "Aygıt: cuda\n",
      "Toplam Görüntü: 7909\n"
     ]
    }
   ],
   "source": [
    "import torch\n",
    "import torch.nn as nn\n",
    "import torch.optim as optim\n",
    "from torch.utils.data import DataLoader, TensorDataset\n",
    "from torchvision import transforms\n",
    "from sklearn.model_selection import train_test_split\n",
    "\n",
    "device = torch.device(\"cuda\" if torch.cuda.is_available() else \"cpu\")\n",
    "print(f\"Aygıt: {device}\")\n",
    "\n",
    "# Veri Yolu\n",
    "breakhis_dir = r'C:\\Users\\alper\\bitirme\\BreakHis\\BreaKHis_v1\\BreaKHis_v1\\histology_slides\\breast'\n",
    "\n",
    "# Görüntüleri yükleme\n",
    "images, labels = [], []\n",
    "conditions = ['benign', 'malignant']\n",
    "\n",
    "for condition in conditions:\n",
    "    condition_dir = os.path.join(breakhis_dir, condition, 'SOB')\n",
    "    if not os.path.exists(condition_dir):\n",
    "        continue\n",
    "    for folder in os.listdir(condition_dir):\n",
    "        for subfolder in os.listdir(os.path.join(condition_dir, folder)):\n",
    "            for magnification in ['40X', '100X', '200X', '400X']:\n",
    "                magnification_path = os.path.join(condition_dir, folder, subfolder, magnification)\n",
    "                if not os.path.exists(magnification_path):\n",
    "                    continue\n",
    "                for image_file in os.listdir(magnification_path):\n",
    "                    image_path = os.path.join(magnification_path, image_file)\n",
    "                    try:\n",
    "                        img = Image.open(image_path).convert(\"RGB\")\n",
    "                        transform = transforms.Compose([\n",
    "                            transforms.Resize((224, 224)),\n",
    "                            transforms.ToTensor(),\n",
    "                        ])\n",
    "                        img = transform(img)\n",
    "                        images.append(img)\n",
    "                        labels.append(0 if condition == 'benign' else 1)\n",
    "                    except Exception as e:\n",
    "                        print(f\"Hata: {image_path}, {e}\")\n",
    "\n",
    "images = torch.stack(images)\n",
    "labels = torch.tensor(labels)\n",
    "print(f\"Toplam Görüntü: {images.shape[0]}\")\n"
   ]
  },
  {
   "cell_type": "code",
   "execution_count": 10,
   "id": "51be587e-b273-42cf-837c-6a0595a5c61c",
   "metadata": {},
   "outputs": [
    {
     "name": "stdout",
     "output_type": "stream",
     "text": [
      "Veri yükleyiciler hazır.\n"
     ]
    }
   ],
   "source": [
    "train_images, test_images, train_labels, test_labels = train_test_split(\n",
    "    images, labels, test_size=0.2, random_state=42\n",
    ")\n",
    "\n",
    "train_dataset = TensorDataset(train_images, train_labels)\n",
    "test_dataset = TensorDataset(test_images, test_labels)\n",
    "\n",
    "train_loader = DataLoader(train_dataset, batch_size=32, shuffle=True)\n",
    "test_loader = DataLoader(test_dataset, batch_size=32, shuffle=False)\n",
    "\n",
    "print(\"Veri yükleyiciler hazır.\")\n"
   ]
  },
  {
   "cell_type": "code",
   "execution_count": 11,
   "id": "fb01f150-da21-4107-9a95-f0af66fc45ca",
   "metadata": {},
   "outputs": [
    {
     "name": "stdout",
     "output_type": "stream",
     "text": [
      "Model ve optimizer tanımlandı.\n"
     ]
    }
   ],
   "source": [
    "class CNNModel(nn.Module):\n",
    "    def __init__(self):\n",
    "        super(CNNModel, self).__init__()\n",
    "        self.conv1 = nn.Conv2d(3, 32, kernel_size=3, padding=1)\n",
    "        self.conv2 = nn.Conv2d(32, 64, kernel_size=3, padding=1)\n",
    "        self.conv3 = nn.Conv2d(64, 128, kernel_size=3, padding=1)\n",
    "        self.pool = nn.MaxPool2d(2, 2)\n",
    "        self.relu = nn.ReLU()\n",
    "        self.fc1 = nn.Linear(128 * 28 * 28, 512)\n",
    "        self.fc2 = nn.Linear(512, 2)\n",
    "\n",
    "    def forward(self, x):\n",
    "        x = self.relu(self.pool(self.conv1(x)))\n",
    "        x = self.relu(self.pool(self.conv2(x)))\n",
    "        x = self.relu(self.pool(self.conv3(x)))\n",
    "        x = x.view(x.size(0), -1)\n",
    "        x = self.relu(self.fc1(x))\n",
    "        x = self.fc2(x)\n",
    "        return x\n",
    "\n",
    "cnn_model = CNNModel().to(device)\n",
    "criterion = nn.CrossEntropyLoss()\n",
    "optimizer = optim.Adam(cnn_model.parameters(), lr=0.001)\n",
    "\n",
    "print(\"Model ve optimizer tanımlandı.\")\n"
   ]
  },
  {
   "cell_type": "code",
   "execution_count": 12,
   "id": "f2743548-ea26-4a19-b61a-38f06e914548",
   "metadata": {},
   "outputs": [],
   "source": [
    "import torch\n",
    "import torch.nn as nn\n",
    "import torch.optim as optim\n",
    "import torch.nn.functional as F\n",
    "from torch.utils.data import DataLoader, TensorDataset\n"
   ]
  },
  {
   "cell_type": "code",
   "execution_count": 13,
   "id": "c5f07572-32cb-40b3-a5c0-a07381306c89",
   "metadata": {},
   "outputs": [
    {
     "name": "stdout",
     "output_type": "stream",
     "text": [
      "Epoch [1/10] - Train Loss: 0.5002, Train Acc: 79.25%\n",
      "Test Accuracy: 83.88%, ROC-AUC: 0.8442\n",
      "\n",
      "Epoch [2/10] - Train Loss: 0.4047, Train Acc: 84.08%\n",
      "Test Accuracy: 82.81%, ROC-AUC: 0.8443\n",
      "\n",
      "Epoch [3/10] - Train Loss: 0.3998, Train Acc: 83.97%\n",
      "Test Accuracy: 84.89%, ROC-AUC: 0.9014\n",
      "\n",
      "Epoch [4/10] - Train Loss: 0.3850, Train Acc: 84.94%\n",
      "Test Accuracy: 83.06%, ROC-AUC: 0.8887\n",
      "\n",
      "Epoch [5/10] - Train Loss: 0.3696, Train Acc: 85.78%\n",
      "Test Accuracy: 85.08%, ROC-AUC: 0.9096\n",
      "\n",
      "Epoch [6/10] - Train Loss: 0.3623, Train Acc: 85.22%\n",
      "Test Accuracy: 84.64%, ROC-AUC: 0.9061\n",
      "\n",
      "Epoch [7/10] - Train Loss: 0.3361, Train Acc: 86.80%\n",
      "Test Accuracy: 86.16%, ROC-AUC: 0.9173\n",
      "\n",
      "Epoch [8/10] - Train Loss: 0.3198, Train Acc: 87.29%\n",
      "Test Accuracy: 85.78%, ROC-AUC: 0.8922\n",
      "\n",
      "Epoch [9/10] - Train Loss: 0.3044, Train Acc: 87.89%\n",
      "Test Accuracy: 86.66%, ROC-AUC: 0.9236\n",
      "\n",
      "Epoch [10/10] - Train Loss: 0.2866, Train Acc: 88.81%\n",
      "Test Accuracy: 85.46%, ROC-AUC: 0.9288\n",
      "\n",
      "Model eğitildi ve kaydedildi.\n"
     ]
    }
   ],
   "source": [
    "from sklearn.metrics import roc_auc_score\n",
    "\n",
    "# Model eğitimi fonksiyonu\n",
    "def train_one_epoch(model, dataloader, criterion, optimizer, device):\n",
    "    model.train()\n",
    "    running_loss = 0.0\n",
    "    correct = 0\n",
    "\n",
    "    for inputs, labels in dataloader:\n",
    "        inputs, labels = inputs.to(device), labels.to(device)\n",
    "\n",
    "        optimizer.zero_grad()\n",
    "        outputs = model(inputs)\n",
    "        loss = criterion(outputs, labels)\n",
    "        loss.backward()\n",
    "        optimizer.step()\n",
    "\n",
    "        running_loss += loss.item()\n",
    "        _, predicted = torch.max(outputs, 1)\n",
    "        correct += (predicted == labels).sum().item()\n",
    "\n",
    "    accuracy = 100 * correct / len(dataloader.dataset)\n",
    "    avg_loss = running_loss / len(dataloader)\n",
    "    return avg_loss, accuracy\n",
    "\n",
    "# Model doğrulama ve ROC-AUC hesaplama fonksiyonu\n",
    "def evaluate_model(model, dataloader, device):\n",
    "    model.eval()\n",
    "    correct = 0\n",
    "    all_probs = []\n",
    "    all_labels = []\n",
    "\n",
    "    with torch.no_grad():\n",
    "        for inputs, labels in dataloader:\n",
    "            inputs, labels = inputs.to(device), labels.to(device)\n",
    "            outputs = model(inputs)\n",
    "\n",
    "            _, predicted = torch.max(outputs, 1)\n",
    "            correct += (predicted == labels).sum().item()\n",
    "\n",
    "            probs = F.softmax(outputs, dim=1)[:, 1]\n",
    "            all_probs.extend(probs.cpu().numpy())\n",
    "            all_labels.extend(labels.cpu().numpy())\n",
    "\n",
    "    accuracy = 100 * correct / len(dataloader.dataset)\n",
    "    roc_auc = roc_auc_score(all_labels, all_probs)\n",
    "    return accuracy, roc_auc\n",
    "\n",
    "# Eğitim döngüsü\n",
    "num_epochs = 10\n",
    "\n",
    "for epoch in range(num_epochs):\n",
    "    train_loss, train_acc = train_one_epoch(cnn_model, train_loader, criterion, optimizer, device)\n",
    "    test_acc, roc_auc = evaluate_model(cnn_model, test_loader, device)\n",
    "\n",
    "    print(f\"Epoch [{epoch+1}/{num_epochs}] - Train Loss: {train_loss:.4f}, Train Acc: {train_acc:.2f}%\")\n",
    "    print(f\"Test Accuracy: {test_acc:.2f}%, ROC-AUC: {roc_auc:.4f}\\n\")\n",
    "\n",
    "# Modeli kaydet\n",
    "torch.save(cnn_model.state_dict(), f'cnn_model.pth')\n",
    "print(\"Model eğitildi ve kaydedildi.\")\n"
   ]
  },
  {
   "cell_type": "code",
   "execution_count": 14,
   "id": "57c299a0-7858-43ed-8511-cc9b4d42a7c9",
   "metadata": {},
   "outputs": [
    {
     "name": "stdout",
     "output_type": "stream",
     "text": [
      "VGG19 modeli yüklendi ve son katman güncellendi.\n"
     ]
    }
   ],
   "source": [
    "from torchvision.models import vgg19, VGG19_Weights\n",
    "\n",
    "# VGG19 modelini yükle (önceden eğitilmiş ağırlıklarla)\n",
    "weights = VGG19_Weights.DEFAULT\n",
    "vgg19 = vgg19(weights=weights)\n",
    "\n",
    "# Son katmanı (classifier) 2 sınıfa göre değiştir\n",
    "vgg19.classifier[6] = nn.Linear(in_features=4096, out_features=2)\n",
    "\n",
    "print(\"VGG19 modeli yüklendi ve son katman güncellendi.\")\n"
   ]
  },
  {
   "cell_type": "code",
   "execution_count": 15,
   "id": "6795d800-4536-4c2d-9258-db57a275d3bb",
   "metadata": {},
   "outputs": [
    {
     "name": "stdout",
     "output_type": "stream",
     "text": [
      "Model cihaza taşındı, optimizer ve loss fonksiyonu ayarlandı.\n"
     ]
    }
   ],
   "source": [
    "import torch.optim as optim\n",
    "import torch\n",
    "\n",
    "# Cihazı tanımla (GPU varsa onu kullan)\n",
    "device = torch.device(\"cuda\" if torch.cuda.is_available() else \"cpu\")\n",
    "\n",
    "# Modeli cihaza taşı\n",
    "vgg19 = vgg19.to(device)\n",
    "\n",
    "# Optimizasyon ve loss fonksiyonu\n",
    "optimizer_vgg = optim.Adam(vgg19.parameters(), lr=0.0001)\n",
    "criterion_vgg = nn.CrossEntropyLoss()\n",
    "\n",
    "print(\"Model cihaza taşındı, optimizer ve loss fonksiyonu ayarlandı.\")\n"
   ]
  },
  {
   "cell_type": "code",
   "execution_count": 16,
   "id": "322dd76e-1652-4875-9262-44da7c8f0611",
   "metadata": {},
   "outputs": [
    {
     "name": "stdout",
     "output_type": "stream",
     "text": [
      "[Epoch 1/10] Train Loss: 0.4225, Train Accuracy: 81.35%\n",
      "Test Accuracy: 90.20%, ROC-AUC: 0.9590\n",
      "\n",
      "[Epoch 2/10] Train Loss: 0.2156, Train Accuracy: 92.19%\n",
      "Test Accuracy: 92.23%, ROC-AUC: 0.9840\n",
      "\n",
      "[Epoch 3/10] Train Loss: 0.1835, Train Accuracy: 93.49%\n",
      "Test Accuracy: 92.35%, ROC-AUC: 0.9833\n",
      "\n",
      "[Epoch 4/10] Train Loss: 0.1471, Train Accuracy: 94.58%\n",
      "Test Accuracy: 91.72%, ROC-AUC: 0.9851\n",
      "\n",
      "[Epoch 5/10] Train Loss: 0.1115, Train Accuracy: 96.02%\n",
      "Test Accuracy: 95.45%, ROC-AUC: 0.9911\n",
      "\n",
      "[Epoch 6/10] Train Loss: 0.0935, Train Accuracy: 96.30%\n",
      "Test Accuracy: 95.83%, ROC-AUC: 0.9924\n",
      "\n",
      "[Epoch 7/10] Train Loss: 0.0708, Train Accuracy: 97.50%\n",
      "Test Accuracy: 96.71%, ROC-AUC: 0.9944\n",
      "\n",
      "[Epoch 8/10] Train Loss: 0.0752, Train Accuracy: 97.49%\n",
      "Test Accuracy: 94.69%, ROC-AUC: 0.9889\n",
      "\n",
      "[Epoch 9/10] Train Loss: 0.0605, Train Accuracy: 98.17%\n",
      "Test Accuracy: 95.76%, ROC-AUC: 0.9901\n",
      "\n",
      "[Epoch 10/10] Train Loss: 0.0532, Train Accuracy: 98.48%\n",
      "Test Accuracy: 95.13%, ROC-AUC: 0.9886\n",
      "\n",
      "VGG19 modeli eğitildi ve kaydedildi.\n"
     ]
    }
   ],
   "source": [
    "from sklearn.metrics import roc_auc_score\n",
    "\n",
    "# Eğitim fonksiyonu\n",
    "def train_one_epoch(model, dataloader, criterion, optimizer, device):\n",
    "    model.train()\n",
    "    running_loss = 0.0\n",
    "    correct = 0\n",
    "\n",
    "    for inputs, labels in dataloader:\n",
    "        inputs, labels = inputs.to(device), labels.to(device)\n",
    "\n",
    "        optimizer.zero_grad()\n",
    "        outputs = model(inputs)\n",
    "        loss = criterion(outputs, labels)\n",
    "        loss.backward()\n",
    "        optimizer.step()\n",
    "\n",
    "        running_loss += loss.item()\n",
    "        _, predicted = torch.max(outputs, 1)\n",
    "        correct += (predicted == labels).sum().item()\n",
    "\n",
    "    accuracy = 100 * correct / len(dataloader.dataset)\n",
    "    avg_loss = running_loss / len(dataloader)\n",
    "    return avg_loss, accuracy\n",
    "\n",
    "# Test/Değerlendirme fonksiyonu\n",
    "def evaluate_model(model, dataloader, device):\n",
    "    model.eval()\n",
    "    correct = 0\n",
    "    all_probs = []\n",
    "    all_labels = []\n",
    "\n",
    "    with torch.no_grad():\n",
    "        for inputs, labels in dataloader:\n",
    "            inputs, labels = inputs.to(device), labels.to(device)\n",
    "            outputs = model(inputs)\n",
    "\n",
    "            probs = F.softmax(outputs, dim=1)[:, 1]  # Pozitif sınıfın olasılığı\n",
    "            all_probs.extend(probs.cpu().numpy())\n",
    "            all_labels.extend(labels.cpu().numpy())\n",
    "\n",
    "            _, predicted = torch.max(outputs, 1)\n",
    "            correct += (predicted == labels).sum().item()\n",
    "\n",
    "    accuracy = 100 * correct / len(dataloader.dataset)\n",
    "    roc_auc = roc_auc_score(all_labels, all_probs)\n",
    "    return accuracy, roc_auc\n",
    "\n",
    "# Eğitim döngüsü\n",
    "num_epochs = 10\n",
    "\n",
    "for epoch in range(num_epochs):\n",
    "    train_loss, train_acc = train_one_epoch(vgg19, train_loader, criterion_vgg, optimizer_vgg, device)\n",
    "    test_acc, roc_auc = evaluate_model(vgg19, test_loader, device)\n",
    "\n",
    "    print(f\"[Epoch {epoch+1}/{num_epochs}] Train Loss: {train_loss:.4f}, Train Accuracy: {train_acc:.2f}%\")\n",
    "    print(f\"Test Accuracy: {test_acc:.2f}%, ROC-AUC: {roc_auc:.4f}\\n\")\n",
    "\n",
    "# Modeli Kaydet\n",
    "torch.save(vgg19.state_dict(), 'vgg19.pth')\n",
    "print(\"VGG19 modeli eğitildi ve kaydedildi.\")\n"
   ]
  },
  {
   "cell_type": "code",
   "execution_count": 17,
   "id": "f2c947bf-e291-4ce5-9f87-a1f20441b8ff",
   "metadata": {},
   "outputs": [
    {
     "name": "stdout",
     "output_type": "stream",
     "text": [
      "ResNet18 modeli yüklendi ve son katman güncellendi.\n"
     ]
    }
   ],
   "source": [
    "import torchvision.models as models\n",
    "from torchvision.models import ResNet18_Weights\n",
    "\n",
    "# Önceden eğitilmiş ResNet18 modelini yükle\n",
    "resnet18 = models.resnet18(weights=ResNet18_Weights.DEFAULT)\n",
    "\n",
    "# Son katmanı (fc) değiştirelim (2 sınıflı hale getirme)\n",
    "num_features = resnet18.fc.in_features\n",
    "resnet18.fc = nn.Linear(num_features, 2)\n",
    "\n",
    "print(\"ResNet18 modeli yüklendi ve son katman güncellendi.\")\n"
   ]
  },
  {
   "cell_type": "code",
   "execution_count": 18,
   "id": "97dca3d6-2a1d-4179-8fd2-f14860f3632b",
   "metadata": {},
   "outputs": [
    {
     "name": "stdout",
     "output_type": "stream",
     "text": [
      "Model cihaza taşındı, optimizer ve loss fonksiyonu ayarlandı.\n"
     ]
    }
   ],
   "source": [
    "# Modeli cihaza gönder (GPU varsa GPU'ya)\n",
    "resnet18 = resnet18.to(device)\n",
    "\n",
    "# Optimizer ve Loss fonksiyonu\n",
    "optimizer_resnet = optim.Adam(resnet18.parameters(), lr=0.001)\n",
    "criterion_resnet = nn.CrossEntropyLoss()\n",
    "\n",
    "print(\"Model cihaza taşındı, optimizer ve loss fonksiyonu ayarlandı.\")\n"
   ]
  },
  {
   "cell_type": "code",
   "execution_count": 19,
   "id": "82535f64-387d-404d-863a-a76b016d8f90",
   "metadata": {},
   "outputs": [
    {
     "name": "stdout",
     "output_type": "stream",
     "text": [
      "[Epoch 1/10] Train Loss: 0.3537, Train Accuracy: 86.04%\n",
      "Test Accuracy: 85.46%, ROC-AUC: 0.9182\n",
      "\n",
      "[Epoch 2/10] Train Loss: 0.2503, Train Accuracy: 89.63%\n",
      "Test Accuracy: 67.70%, ROC-AUC: 0.6800\n",
      "\n",
      "[Epoch 3/10] Train Loss: 0.2203, Train Accuracy: 91.12%\n",
      "Test Accuracy: 82.74%, ROC-AUC: 0.9662\n",
      "\n",
      "[Epoch 4/10] Train Loss: 0.1688, Train Accuracy: 93.25%\n",
      "Test Accuracy: 72.88%, ROC-AUC: 0.9610\n",
      "\n",
      "[Epoch 5/10] Train Loss: 0.1523, Train Accuracy: 94.28%\n",
      "Test Accuracy: 86.92%, ROC-AUC: 0.9669\n",
      "\n",
      "[Epoch 6/10] Train Loss: 0.1420, Train Accuracy: 94.40%\n",
      "Test Accuracy: 42.79%, ROC-AUC: 0.8949\n",
      "\n",
      "[Epoch 7/10] Train Loss: 0.1333, Train Accuracy: 94.82%\n",
      "Test Accuracy: 89.00%, ROC-AUC: 0.9774\n",
      "\n",
      "[Epoch 8/10] Train Loss: 0.1344, Train Accuracy: 95.10%\n",
      "Test Accuracy: 56.83%, ROC-AUC: 0.9294\n",
      "\n",
      "[Epoch 9/10] Train Loss: 0.1047, Train Accuracy: 96.13%\n",
      "Test Accuracy: 87.86%, ROC-AUC: 0.9677\n",
      "\n",
      "[Epoch 10/10] Train Loss: 0.1092, Train Accuracy: 96.03%\n",
      "Test Accuracy: 87.10%, ROC-AUC: 0.9534\n",
      "\n",
      "Model eğitildi ve kaydedildi.\n"
     ]
    }
   ],
   "source": [
    "# Eğitim fonksiyonu\n",
    "def train_one_epoch(model, dataloader, criterion, optimizer, device):\n",
    "    model.train()\n",
    "    running_loss = 0.0\n",
    "    correct = 0\n",
    "\n",
    "    for inputs, labels in dataloader:\n",
    "        inputs, labels = inputs.to(device), labels.to(device)\n",
    "\n",
    "        optimizer.zero_grad()\n",
    "        outputs = model(inputs)\n",
    "        loss = criterion(outputs, labels)\n",
    "        loss.backward()\n",
    "        optimizer.step()\n",
    "\n",
    "        running_loss += loss.item()\n",
    "        _, predicted = torch.max(outputs, 1)\n",
    "        correct += (predicted == labels).sum().item()\n",
    "\n",
    "    accuracy = 100 * correct / len(dataloader.dataset)\n",
    "    avg_loss = running_loss / len(dataloader)\n",
    "    return avg_loss, accuracy\n",
    "\n",
    "# Test/Değerlendirme fonksiyonu\n",
    "def evaluate_model(model, dataloader, device):\n",
    "    model.eval()\n",
    "    correct = 0\n",
    "    all_probs = []\n",
    "    all_labels = []\n",
    "\n",
    "    with torch.no_grad():\n",
    "        for inputs, labels in dataloader:\n",
    "            inputs, labels = inputs.to(device), labels.to(device)\n",
    "            outputs = model(inputs)\n",
    "\n",
    "            probs = F.softmax(outputs, dim=1)[:, 1]  # Pozitif sınıfın olasılığı\n",
    "            all_probs.extend(probs.cpu().numpy())\n",
    "            all_labels.extend(labels.cpu().numpy())\n",
    "\n",
    "            _, predicted = torch.max(outputs, 1)\n",
    "            correct += (predicted == labels).sum().item()\n",
    "\n",
    "    accuracy = 100 * correct / len(dataloader.dataset)\n",
    "    roc_auc = roc_auc_score(all_labels, all_probs)\n",
    "    return accuracy, roc_auc\n",
    "\n",
    "# Eğitim döngüsü\n",
    "num_epochs = 10\n",
    "\n",
    "for epoch in range(num_epochs):\n",
    "    train_loss, train_acc = train_one_epoch(resnet18, train_loader, criterion_resnet, optimizer_resnet, device)\n",
    "    test_acc, roc_auc = evaluate_model(resnet18, test_loader, device)\n",
    "\n",
    "    print(f\"[Epoch {epoch+1}/{num_epochs}] Train Loss: {train_loss:.4f}, Train Accuracy: {train_acc:.2f}%\")\n",
    "    print(f\"Test Accuracy: {test_acc:.2f}%, ROC-AUC: {roc_auc:.4f}\\n\")\n",
    "\n",
    "# Modeli Kaydet\n",
    "torch.save(resnet18.state_dict(), 'resnet18.pth')\n",
    "print(\"Model eğitildi ve kaydedildi.\")\n"
   ]
  },
  {
   "cell_type": "code",
   "execution_count": 20,
   "id": "a9e8a323-fd91-4931-9b8d-14ed81fc53ad",
   "metadata": {},
   "outputs": [
    {
     "name": "stdout",
     "output_type": "stream",
     "text": [
      "CNNModel -Confusion Matrix:\n",
      "[[444  75]\n",
      " [155 908]]\n",
      "\n",
      "Classification Report:\n",
      "              precision    recall  f1-score   support\n",
      "\n",
      "      Benign       0.74      0.86      0.79       519\n",
      "   Malignant       0.92      0.85      0.89      1063\n",
      "\n",
      "    accuracy                           0.85      1582\n",
      "   macro avg       0.83      0.85      0.84      1582\n",
      "weighted avg       0.86      0.85      0.86      1582\n",
      "\n"
     ]
    },
    {
     "data": {
      "image/png": "[encoded data removed]",
      "text/plain": [
       "<Figure size 800x600 with 1 Axes>"
      ]
     },
     "metadata": {},
     "output_type": "display_data"
    }
   ],
   "source": [
    "import numpy as np\n",
    "from sklearn.metrics import confusion_matrix, classification_report\n",
    "import seaborn as sns\n",
    "import matplotlib.pyplot as plt\n",
    "\n",
    "# Modelin test verileri üzerinde tahmin yapması\n",
    "cnn_model.eval()\n",
    "predictions = []\n",
    "true_labels = []\n",
    "\n",
    "with torch.no_grad():\n",
    "    for inputs, labels in test_loader:\n",
    "        inputs, labels = inputs.to(device), labels.to(device)\n",
    "        outputs = cnn_model(inputs)\n",
    "        _, predicted = torch.max(outputs, 1)\n",
    "        predictions.extend(predicted.cpu().numpy())\n",
    "        true_labels.extend(labels.cpu().numpy())\n",
    "\n",
    "# Etiketler ve sınıf isimleri\n",
    "labels = [0, 1]\n",
    "class_names = ['Benign', 'Malignant']\n",
    "\n",
    "# Confusion Matrix\n",
    "cm = confusion_matrix(true_labels, predictions, labels=labels)\n",
    "print(\"CNNModel -Confusion Matrix:\")\n",
    "print(cm)\n",
    "\n",
    "# Classification Report\n",
    "print(\"\\nClassification Report:\")\n",
    "print(classification_report(true_labels, predictions, labels=labels, target_names=class_names))\n",
    "\n",
    "# Görselleştirme\n",
    "plt.figure(figsize=(8, 6))\n",
    "ax = sns.heatmap(cm, annot=False, fmt='d', cmap='Blues',\n",
    "                 xticklabels=class_names, yticklabels=class_names,\n",
    "                 cbar=False, linewidths=0.5, linecolor='gray')\n",
    "\n",
    "# Sayıları manuel yaz (hem üst hem alt düzgün görünür)\n",
    "threshold = cm.max() / 2\n",
    "for i in range(cm.shape[0]):\n",
    "    for j in range(cm.shape[1]):\n",
    "        value = cm[i, j]\n",
    "        color = \"white\" if value > threshold else \"black\"\n",
    "        ax.text(j + 0.5, i + 0.5, str(value),\n",
    "                ha='center', va='center', color=color, fontsize=14)\n",
    "\n",
    "plt.xlabel('Predicted')\n",
    "plt.ylabel('True')\n",
    "plt.title('Confusion Matrix - CNNModel')\n",
    "\n",
    "# Kaymayı engelle (özellikle alt satır için)\n",
    "bottom, top = ax.get_ylim()\n",
    "ax.set_ylim(bottom + 0.5, top - 0.5)\n",
    "\n",
    "plt.tight_layout()\n",
    "plt.show()\n"
   ]
  },
  {
   "cell_type": "code",
   "execution_count": 21,
   "id": "0e163f3c-349b-4013-8df2-ca1a700eaaef",
   "metadata": {},
   "outputs": [
    {
     "name": "stdout",
     "output_type": "stream",
     "text": [
      "VGG19 - Confusion Matrix:\n",
      "[[ 469   50]\n",
      " [  27 1036]]\n",
      "VGG19 - Classification Report:\n",
      "              precision    recall  f1-score   support\n",
      "\n",
      "      Benign       0.95      0.90      0.92       519\n",
      "   Malignant       0.95      0.97      0.96      1063\n",
      "\n",
      "    accuracy                           0.95      1582\n",
      "   macro avg       0.95      0.94      0.94      1582\n",
      "weighted avg       0.95      0.95      0.95      1582\n",
      "\n"
     ]
    },
    {
     "data": {
      "image/png": "[encoded data removed]",
      "text/plain": [
       "<Figure size 800x600 with 1 Axes>"
      ]
     },
     "metadata": {},
     "output_type": "display_data"
    }
   ],
   "source": [
    "import numpy as np\n",
    "from sklearn.metrics import confusion_matrix, classification_report\n",
    "import seaborn as sns\n",
    "import matplotlib.pyplot as plt\n",
    "\n",
    "# Sınıf etiketleri ve isimleri\n",
    "labels = [0, 1]\n",
    "class_names = ['Benign', 'Malignant']\n",
    "\n",
    "# Modeli test moduna al\n",
    "vgg19.eval()\n",
    "\n",
    "# Değişkenleri hazırlama\n",
    "all_preds = []\n",
    "all_labels = []\n",
    "\n",
    "# Test verisi üzerinde tahmin yapma\n",
    "with torch.no_grad():\n",
    "    for images, labels_batch in test_loader:\n",
    "        images = images.to(device)\n",
    "        labels_batch = labels_batch.to(device)\n",
    "\n",
    "        outputs = vgg19(images)\n",
    "        _, preds = torch.max(outputs, 1)\n",
    "\n",
    "        all_preds.extend(preds.cpu().numpy())\n",
    "        all_labels.extend(labels_batch.cpu().numpy())\n",
    "\n",
    "# Confusion Matrix\n",
    "cm = confusion_matrix(all_labels, all_preds, labels=labels)\n",
    "print(\"VGG19 - Confusion Matrix:\")\n",
    "print(cm)\n",
    "\n",
    "# Classification Report\n",
    "print(\"VGG19 - Classification Report:\")\n",
    "print(classification_report(all_labels, all_preds, labels=labels, target_names=class_names))\n",
    "\n",
    "# Görselleştirme (kaymasız ve tam sayılar)\n",
    "plt.figure(figsize=(8, 6))\n",
    "ax = sns.heatmap(cm, annot=False, fmt='d', cmap='Blues',\n",
    "                 xticklabels=class_names, yticklabels=class_names,\n",
    "                 cbar=False, linewidths=0.5, linecolor='gray')\n",
    "\n",
    "# Sayıları manuel ekle (üst/alt kayma olmaz)\n",
    "threshold = cm.max() / 2\n",
    "for i in range(cm.shape[0]):\n",
    "    for j in range(cm.shape[1]):\n",
    "        value = cm[i, j]\n",
    "        color = \"white\" if value > threshold else \"black\"\n",
    "        ax.text(j + 0.5, i + 0.5, str(value),\n",
    "                ha='center', va='center', color=color, fontsize=14)\n",
    "\n",
    "plt.xlabel('Predicted')\n",
    "plt.ylabel('True')\n",
    "plt.title('Confusion Matrix - VGG19')\n",
    "\n",
    "# Alt satırın görünmesini sağlar\n",
    "bottom, top = ax.get_ylim()\n",
    "ax.set_ylim(bottom + 0.5, top - 0.5)\n",
    "\n",
    "plt.tight_layout()\n",
    "plt.show()\n"
   ]
  },
  {
   "cell_type": "code",
   "execution_count": 22,
   "id": "90e9c2da-7944-4f20-9a1f-6c2c2d90d0e6",
   "metadata": {},
   "outputs": [
    {
     "name": "stdout",
     "output_type": "stream",
     "text": [
      "ResNet18 - Confusion Matrix:\n",
      "[[ 342  177]\n",
      " [  27 1036]]\n",
      "ResNet18 - Classification Report:\n",
      "              precision    recall  f1-score   support\n",
      "\n",
      "      Benign       0.93      0.66      0.77       519\n",
      "   Malignant       0.85      0.97      0.91      1063\n",
      "\n",
      "    accuracy                           0.87      1582\n",
      "   macro avg       0.89      0.82      0.84      1582\n",
      "weighted avg       0.88      0.87      0.86      1582\n",
      "\n"
     ]
    },
    {
     "data": {
      "image/png": "[encoded data removed]",
      "text/plain": [
       "<Figure size 800x600 with 1 Axes>"
      ]
     },
     "metadata": {},
     "output_type": "display_data"
    }
   ],
   "source": [
    "import numpy as np\n",
    "from sklearn.metrics import confusion_matrix, classification_report\n",
    "import seaborn as sns\n",
    "import matplotlib.pyplot as plt\n",
    "\n",
    "# Sınıf etiketleri ve isimleri\n",
    "labels = [0, 1]\n",
    "class_names = ['Benign', 'Malignant']\n",
    "\n",
    "# Modeli test moduna al\n",
    "resnet18.eval()\n",
    "\n",
    "# Değişkenleri hazırlama\n",
    "all_preds = []\n",
    "all_labels = []\n",
    "\n",
    "# Test verisi üzerinde tahmin yapma\n",
    "with torch.no_grad():\n",
    "    for images, labels_batch in test_loader:\n",
    "        images = images.to(device)\n",
    "        labels_batch = labels_batch.to(device)\n",
    "\n",
    "        outputs = resnet18(images)\n",
    "        _, preds = torch.max(outputs, 1)\n",
    "\n",
    "        all_preds.extend(preds.cpu().numpy())\n",
    "        all_labels.extend(labels_batch.cpu().numpy())\n",
    "\n",
    "# Confusion Matrix\n",
    "cm = confusion_matrix(all_labels, all_preds, labels=labels)\n",
    "print(\"ResNet18 - Confusion Matrix:\")\n",
    "print(cm)\n",
    "\n",
    "# Classification Report\n",
    "print(\"ResNet18 - Classification Report:\")\n",
    "print(classification_report(all_labels, all_preds, labels=labels, target_names=class_names))\n",
    "\n",
    "# Görselleştirme (kaymasız ve okunabilir)\n",
    "plt.figure(figsize=(8, 6))\n",
    "ax = sns.heatmap(cm, annot=False, fmt='d', cmap='Blues',\n",
    "                 xticklabels=class_names, yticklabels=class_names,\n",
    "                 cbar=False, linewidths=0.5, linecolor='gray')\n",
    "\n",
    "# Sayıları manuel olarak yaz (kayma olmaz)\n",
    "threshold = cm.max() / 2\n",
    "for i in range(cm.shape[0]):\n",
    "    for j in range(cm.shape[1]):\n",
    "        value = cm[i, j]\n",
    "        color = \"white\" if value > threshold else \"black\"\n",
    "        ax.text(j + 0.5, i + 0.5, str(value),\n",
    "                ha='center', va='center', color=color, fontsize=14)\n",
    "\n",
    "plt.xlabel('Predicted')\n",
    "plt.ylabel('True')\n",
    "plt.title('Confusion Matrix - ResNet18')\n",
    "\n",
    "# Alt ve üst kaymayı engelle\n",
    "bottom, top = ax.get_ylim()\n",
    "ax.set_ylim(bottom + 0.5, top - 0.5)\n",
    "\n",
    "plt.tight_layout()\n",
    "plt.show()\n"
   ]
  },
  {
   "cell_type": "code",
   "execution_count": 23,
   "id": "bdcff6d1-e8c2-428b-a7fa-04d48f57a08a",
   "metadata": {},
   "outputs": [],
   "source": [
    "import matplotlib.pyplot as plt\n",
    "import numpy as np\n",
    "import pandas as pd\n",
    "from sklearn.metrics import classification_report\n"
   ]
  },
  {
   "cell_type": "code",
   "execution_count": 24,
   "id": "a2a861e8-b1bb-4d45-98aa-65438b74e81b",
   "metadata": {},
   "outputs": [
    {
     "data": {
      "image/png": "[encoded data removed]",
      "text/plain": [
       "<Figure size 800x500 with 1 Axes>"
      ]
     },
     "metadata": {},
     "output_type": "display_data"
    }
   ],
   "source": [
    "# Güncellenmiş model adları ve doğruluk değerleri\n",
    "models = ['CNNModel', 'VGG19', 'ResNet18']\n",
    "accuracies = [0.85, 0.95, 0.87]  # Doğruluk oranları\n",
    "\n",
    "# Bar grafiği oluşturuluyor\n",
    "plt.figure(figsize=(8, 5))\n",
    "bars = plt.bar(models, accuracies, color=['skyblue', 'orange', 'lightgreen'])\n",
    "plt.ylim(0, 1)\n",
    "plt.title('Model Accuracy Karşılaştırması')\n",
    "plt.ylabel('Accuracy')\n",
    "\n",
    "# Barların üstüne değerleri yazma\n",
    "for bar in bars:\n",
    "    yval = bar.get_height()\n",
    "    plt.text(bar.get_x() + bar.get_width()/2, yval + 0.01, f'{yval:.2f}', ha='center', va='bottom')\n",
    "\n",
    "# Grafik düzenlemeleri\n",
    "plt.tight_layout()\n",
    "plt.show()\n"
   ]
  },
  {
   "cell_type": "code",
   "execution_count": 25,
   "id": "0d19e839-600f-4f7d-a596-4862e5f7ee0c",
   "metadata": {},
   "outputs": [
    {
     "data": {
      "image/png": "[encoded data removed]",
      "text/plain": [
       "<Figure size 800x500 with 1 Axes>"
      ]
     },
     "metadata": {},
     "output_type": "display_data"
    }
   ],
   "source": [
    "import pandas as pd\n",
    "import matplotlib.pyplot as plt\n",
    "\n",
    "# Güncel classification_report sonuçlarına göre F1-Score değerleri\n",
    "cnn_f1 = {'Benign': 0.79, 'Malignant': 0.89}      # CNNModel\n",
    "vgg_f1 = {'Benign': 0.92, 'Malignant': 0.96}      # VGG19\n",
    "resnet_f1 = {'Benign': 0.77, 'Malignant': 0.91}   # ResNet18\n",
    "\n",
    "# Pandas DataFrame oluştur\n",
    "f1_df = pd.DataFrame({\n",
    "    'CNNModel': cnn_f1,\n",
    "    'VGG19': vgg_f1,\n",
    "    'ResNet18': resnet_f1\n",
    "}).T  # Modeller satırda olsun diye transpose\n",
    "\n",
    "# Bar grafiği çiz\n",
    "f1_df.plot(kind='bar', figsize=(8, 5), color=['salmon', 'mediumseagreen'])\n",
    "plt.title('F1-Score Karşılaştırması (Benign vs Malignant)')\n",
    "plt.ylabel('F1-Score')\n",
    "plt.ylim(0, 1)\n",
    "plt.xticks(rotation=0)\n",
    "plt.legend(title=\"Sınıf\")\n",
    "\n",
    "# Çubukların üzerine değerleri yazdır\n",
    "for i, model in enumerate(f1_df.index):\n",
    "    for j, value in enumerate(f1_df.loc[model]):\n",
    "        plt.text(i + j*0.25 - 0.15, value + 0.01, f'{value:.2f}', ha='center', va='bottom')\n",
    "\n",
    "plt.tight_layout()\n",
    "plt.show()\n"
   ]
  },
  {
   "cell_type": "code",
   "execution_count": 26,
   "id": "0be2e357-85e3-4613-9c50-99c37fb1f699",
   "metadata": {},
   "outputs": [
    {
     "data": {
      "image/png": "[encoded data removed]",
      "text/plain": [
       "<Figure size 800x600 with 1 Axes>"
      ]
     },
     "metadata": {},
     "output_type": "display_data"
    }
   ],
   "source": [
    "from sklearn.metrics import roc_curve, auc\n",
    "\n",
    "# Probabiliteleri ve etiketleri almak için fonksiyon\n",
    "def get_probs_and_labels(model, dataloader, device):\n",
    "    model.eval()  # Modeli değerlendirme moduna al\n",
    "    all_labels = []\n",
    "    all_probs = []\n",
    "    \n",
    "    with torch.no_grad():  # Gradients hesaplanmasın\n",
    "        for inputs, labels in dataloader:\n",
    "            inputs, labels = inputs.to(device), labels.to(device)\n",
    "            outputs = model(inputs)\n",
    "            probs = F.softmax(outputs, dim=1)[:, 1]  # Malignant sınıfı için probabilite\n",
    "            all_labels.extend(labels.cpu().numpy())\n",
    "            all_probs.extend(probs.cpu().numpy())\n",
    "    \n",
    "    return all_labels, all_probs\n",
    "\n",
    "# Her model için ROC verilerini al\n",
    "all_labels_cnn, all_probs_cnn = get_probs_and_labels(cnn_model, test_loader, device)\n",
    "all_labels_vgg, all_probs_vgg = get_probs_and_labels(vgg19, test_loader, device)\n",
    "all_labels_resnet, all_probs_resnet = get_probs_and_labels(resnet18, test_loader, device)\n",
    "\n",
    "# ROC curve çizme fonksiyonu\n",
    "def plot_roc_curve(all_labels, all_probs, model_name):\n",
    "    fpr, tpr, _ = roc_curve(all_labels, all_probs)\n",
    "    roc_auc = auc(fpr, tpr)\n",
    "    plt.plot(fpr, tpr, label=f'{model_name} (AUC = {roc_auc:.4f})')\n",
    "\n",
    "# ROC eğrilerini çiz\n",
    "plt.figure(figsize=(8, 6))\n",
    "\n",
    "plot_roc_curve(all_labels_cnn, all_probs_cnn, 'CNN')\n",
    "plot_roc_curve(all_labels_vgg, all_probs_vgg, 'VGG19')\n",
    "plot_roc_curve(all_labels_resnet, all_probs_resnet, 'ResNet18')\n",
    "\n",
    "plt.plot([0, 1], [0, 1], 'k--', label='Random Guess')\n",
    "plt.xlim([0.0, 1.0])\n",
    "plt.ylim([0.0, 1.05])\n",
    "plt.xlabel('False Positive Rate')\n",
    "plt.ylabel('True Positive Rate')\n",
    "plt.title('ROC Curves for CNN, VGG19, and ResNet18')\n",
    "plt.legend(loc='lower right')\n",
    "plt.grid(True)\n",
    "plt.show()"
   ]
  },
  {
   "cell_type": "code",
   "execution_count": null,
   "id": "886b2e23-365f-46aa-8e84-6ed9dc95863c",
   "metadata": {},
   "outputs": [],
   "source": []
  }
 ],
 "metadata": {
  "kernelspec": {
   "display_name": "Python 3 (ipykernel)",
   "language": "python",
   "name": "python3"
  },
  "language_info": {
   "codemirror_mode": {
    "name": "ipython",
    "version": 3
   },
   "file_extension": ".py",
   "mimetype": "text/x-python",
   "name": "python",
   "nbconvert_exporter": "python",
   "pygments_lexer": "ipython3",
   "version": "3.11.7"
  }
 },
 "nbformat": 4,
 "nbformat_minor": 5
}
